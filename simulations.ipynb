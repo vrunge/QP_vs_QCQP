{
 "cells": [
  {
   "cell_type": "markdown",
   "metadata": {},
   "source": [
    "# Simulation QCQP - equivalent QP\n",
    "\n",
    "<img src=\"http://media.giphy.com/media/elvaNxcznR8Fa/giphy.gif\"  width=\"200\">\n"
   ]
  },
  {
   "cell_type": "code",
   "execution_count": 1,
   "metadata": {},
   "outputs": [],
   "source": [
    "import cvxpy as cvx\n",
    "import numpy as np\n",
    "import matplotlib.pyplot as plt\n",
    "from qcqp import *\n",
    "from numpy.random import randn\n"
   ]
  },
  {
   "cell_type": "markdown",
   "metadata": {},
   "source": [
    "## Plan :\n",
    "\n",
    "   [- QCQP](#1)\n",
    "   \n",
    "   [- QP](#2)\n",
    "   \n",
    "   [- QP vs. QCQP](#3)   "
   ]
  },
  {
   "cell_type": "markdown",
   "metadata": {},
   "source": [
    "<a id=\"1\"></a> \n",
    " \n",
    "# 1. QCQP\n",
    "\n",
    "## Functions"
   ]
  },
  {
   "cell_type": "markdown",
   "metadata": {},
   "source": [
    "Function isIncluded with QCQP algorithm"
   ]
  },
  {
   "cell_type": "code",
   "execution_count": 153,
   "metadata": {},
   "outputs": [],
   "source": [
    "def IsIncluded_QCQP(cI,RI,cU,RU,n,p,q):\n",
    "    i = 0\n",
    "    response = False\n",
    "    x = cvx.Variable(n)\n",
    "    while i < q: \n",
    "        objective = -sum((x-cU[i])**2)\n",
    "        constraints  = [sum((x-cI[0])**2) <= RI[0]**2]\n",
    "        for k in range(1, p):\n",
    "            constraints = constraints + [sum((x-cI[k])**2) <= RI[k]**2]\n",
    "        for l in range(0, i):\n",
    "            constraints = constraints + [sum((x-cU[l])**2) >= RU[l]**2]\n",
    "\n",
    "        prob = cvx.Problem(cvx.Minimize(objective), constraints)  \n",
    "        qcqp = QCQP(prob)\n",
    "        qcqp.suggest(RANDOM)  \n",
    "        #qcqp.suggest(SDR,  solver=cvx.CVXOPT)\n",
    "        #qcqp.suggest(SPECTRAL)\n",
    "        #f_cd = qcqp.improve(COORD_DESCENT) \n",
    "        f_cd = qcqp.improve(ADMM) \n",
    "        \n",
    "        if -f_cd[0] <= RU[i]**2: \n",
    "            response = True\n",
    "            i = q  \n",
    "            \n",
    "        i = i+1\n",
    "    return response"
   ]
  },
  {
   "cell_type": "markdown",
   "metadata": {},
   "source": [
    "Function IsIncluded using plot 2D"
   ]
  },
  {
   "cell_type": "code",
   "execution_count": 154,
   "metadata": {},
   "outputs": [],
   "source": [
    "def IsIncluded_PLOT(cI,RI,cU,RU,p,q):\n",
    "    h = .1  # step size in the mesh\n",
    "    x_min, x_max =  -30, 30\n",
    "    y_min, y_max = -30, 30\n",
    "    xx, yy = np.meshgrid(np.arange(x_min, x_max, h),np.arange(y_min, y_max, h))\n",
    "    i = 0\n",
    "    while i < len(xx):\n",
    "        j = 0\n",
    "        while j < len(yy):\n",
    "            response = True\n",
    "            for k in range(0,p):\n",
    "                if((xx[i,j]-cI[k,0])**2+(yy[i,j]-cI[k,1])**2>RI[k]**2):\n",
    "                    response = False\n",
    "                    k = p\n",
    "            if response == True:\n",
    "                for l in range(0,q):\n",
    "                    if((xx[i,j]-cU[l,0])**2+(yy[i,j]-cU[l,1])**2<=RU[l]**2):\n",
    "                        response = False\n",
    "                        l = q\n",
    "\n",
    "            if response == True:\n",
    "                #print(xx[i,j],yy[i,j])\n",
    "                i = len(xx)\n",
    "                j = len(yy)\n",
    "            j= j+1\n",
    "        i=i+1\n",
    "    return not response"
   ]
  },
  {
   "cell_type": "markdown",
   "metadata": {},
   "source": [
    "Function topology"
   ]
  },
  {
   "cell_type": "code",
   "execution_count": 155,
   "metadata": {},
   "outputs": [],
   "source": [
    "def topology(cI,RI,cU,RU,n,p,q):\n",
    "    c = np.concatenate((cI, cU), axis=0)\n",
    "    R = np.concatenate((RI, RU), axis=0)\n",
    "    response = np.ones((p+q, p+q))\n",
    "    for i in range(0,p+q):\n",
    "        for j in range(0,p+q):\n",
    "            dist = np.sqrt(sum((c[i]-c[j])*(c[i]-c[j])))\n",
    "            if dist > R[i]+R[j] : \n",
    "                response[i,j] = 0\n",
    "            if dist < R[j]-R[i] : \n",
    "                response[i,j] = 2\n",
    "            if dist < R[i]-R[j] : \n",
    "                response[i,j] = 3\n",
    "                \n",
    "    return response"
   ]
  },
  {
   "cell_type": "markdown",
   "metadata": {},
   "source": [
    "Function plot 2D"
   ]
  },
  {
   "cell_type": "code",
   "execution_count": 181,
   "metadata": {},
   "outputs": [],
   "source": [
    "def plot(cI,RI,cU,RU,p,q, scale = 30):\n",
    "    fig, ax = plt.subplots() \n",
    "    ax.set_xlim((-scale, scale))\n",
    "    ax.set_ylim((-scale, scale))\n",
    "\n",
    "    for i in range(0, q):\n",
    "        ax.add_artist(plt.Circle(list(cU[i]), RU[i], color='r',  alpha=1))\n",
    "    for i in range(0, p):\n",
    "        ax.add_artist(plt.Circle(list(cI[i]), RI[i], color='b', alpha=.15))"
   ]
  },
  {
   "cell_type": "markdown",
   "metadata": {},
   "source": [
    "Function data generator"
   ]
  },
  {
   "cell_type": "code",
   "execution_count": 157,
   "metadata": {},
   "outputs": [],
   "source": [
    "def dataGenerator(epsilon,n,p,q,diff):\n",
    "    rand = np.random.normal(0, 10, n)\n",
    "    cI = rand.reshape((1, n))\n",
    "    RI = np.sqrt((cI*cI).sum(axis=1)) + epsilon\n",
    "    \n",
    "    i = 0   \n",
    "    while i < p+q:\n",
    "        if i < p:\n",
    "            rand = np.random.normal(0, 10, n)\n",
    "            c = rand.reshape((1, n))\n",
    "            R = np.sqrt((c*c).sum(axis=1)) + epsilon\n",
    "        if i >= p:\n",
    "            rand = np.random.normal(0, 10*diff, n)\n",
    "            c = rand.reshape((1, n))\n",
    "            R = np.sqrt((c*c).sum(axis=1)) + epsilon/2\n",
    "        concat = True\n",
    "        \n",
    "        for j in range(0,cI.shape[0]):\n",
    "            dist = np.linalg.norm((cI[j] - c), ord=1)\n",
    "            if dist < abs(RI[j]-R):\n",
    "                concat = False\n",
    "        \n",
    "        if concat == True:\n",
    "            cI = np.concatenate((cI, c), axis=0)\n",
    "            RI = np.concatenate((RI, R), axis=0)\n",
    "            i = i + 1\n",
    "    cU = cI[0:q,]\n",
    "    cI = cI[q+1:p+q+1,] \n",
    "    RU = RI[0:q]\n",
    "    RI = RI[q+1:p+q+1]     \n",
    "    return(cI,RI,cU,RU)"
   ]
  },
  {
   "cell_type": "markdown",
   "metadata": {},
   "source": [
    "## Simple test"
   ]
  },
  {
   "cell_type": "code",
   "execution_count": 158,
   "metadata": {
    "scrolled": true
   },
   "outputs": [],
   "source": [
    "epsilon = 5\n",
    "#n = nb of varialbles\n",
    "n = 2\n",
    "#p = nb of elements in the intersection\n",
    "p = 5\n",
    "#p = nb of elements in the union\n",
    "q = 2"
   ]
  },
  {
   "cell_type": "code",
   "execution_count": 159,
   "metadata": {},
   "outputs": [],
   "source": [
    "rand = np.random.normal(0, 10, p*n)\n",
    "cI = rand.reshape((p, n))\n",
    "RI = np.sqrt((cI*cI).sum(axis=1)) + epsilon\n",
    "\n",
    "rand = np.random.normal(0, 10, q*n)\n",
    "cU = rand.reshape((q, n))\n",
    "RU = np.sqrt((cU*cU).sum(axis=1)) + epsilon/2"
   ]
  },
  {
   "cell_type": "code",
   "execution_count": null,
   "metadata": {},
   "outputs": [],
   "source": [
    "IsIncluded_QCQP(cI,RI,cU,RU,n,p,q)"
   ]
  },
  {
   "cell_type": "code",
   "execution_count": null,
   "metadata": {},
   "outputs": [],
   "source": [
    "IsIncluded_PLOT(cI,RI,cU,RU,p,q)"
   ]
  },
  {
   "cell_type": "code",
   "execution_count": null,
   "metadata": {},
   "outputs": [],
   "source": [
    "topology(cI,RI,cU,RU,n,p,q)"
   ]
  },
  {
   "cell_type": "code",
   "execution_count": null,
   "metadata": {},
   "outputs": [],
   "source": [
    "plot(cI,RI,cU,RU,p,q)"
   ]
  },
  {
   "cell_type": "code",
   "execution_count": null,
   "metadata": {},
   "outputs": [],
   "source": []
  },
  {
   "cell_type": "markdown",
   "metadata": {},
   "source": [
    "<img src=\"http://media.giphy.com/media/bvARFeSkNzIm4/giphy.gif\"  width=\"300\">\n",
    "\n",
    "<a id=\"2\"></a> \n",
    " \n",
    "# 2. QP\n",
    "\n",
    "## Functions"
   ]
  },
  {
   "cell_type": "code",
   "execution_count": 164,
   "metadata": {},
   "outputs": [],
   "source": [
    "from cvxopt import matrix, solvers\n",
    "import cdd \n",
    "import mosek"
   ]
  },
  {
   "cell_type": "code",
   "execution_count": 165,
   "metadata": {},
   "outputs": [],
   "source": [
    "def IsIncluded_QP(cI,RI,cU,RU,n,p,q):\n",
    "    i = 0\n",
    "    response = True\n",
    "    x = cvx.Variable(n)\n",
    "    while i < q: \n",
    "        #Create constraints G*x <= h\n",
    "        cU2 = np.delete(cU, (i), axis=0)\n",
    "        RU2 = np.delete(RU, (i), axis=0)\n",
    "        h1 = RI**2 - RU[i]**2 + sum(cU[i]**2) - (cI**2).sum(axis=1)\n",
    "        h2 = RU[i]**2 - RU2**2 - sum(cU[i]**2) + (cU2**2).sum(axis=1)\n",
    "        h = np.concatenate((h1,h2), axis=0)\n",
    "        G1 = 2*(cU[i] - cI)\n",
    "        G2 = 2*(cU2 - cU[i])\n",
    "        G = np.matrix(np.concatenate((G1,G2), axis=0))\n",
    "\n",
    "        # Create variable.\n",
    "        x = cvx.Variable(n)\n",
    "        # Pb solution.    \n",
    "        constraints = [G*x <= h]\n",
    "        obj = cvx.Minimize(sum((x-cU[i])**2))\n",
    "        prob = cvx.Problem(obj, constraints)\n",
    "        \n",
    "        if prob.solve() <RU[i]**2: #Study of the intersection circle - polyhedron   \n",
    "            hh = h.reshape(G.shape[0], 1) \n",
    "            m = np.asarray(np.concatenate((hh,-G), axis=1))\n",
    "            mat = cdd.Matrix(m, number_type='float')\n",
    "            mat.rep_type = cdd.RepType.INEQUALITY\n",
    "            poly = cdd.Polyhedron(mat)\n",
    "            result = np.array(poly.get_generators())\n",
    "            #print(result)\n",
    "            if result.shape[0]>0:\n",
    "                if (all(result[:,0] == 1) == True):#polyhedron = polytope\n",
    "                    for j in range(0,result.shape[0]):\n",
    "                        if (sum((result[j,1:]-cU[i])**2) > RU[i]**2):#vertex outside the ball\n",
    "                            response = False\n",
    "                else:\n",
    "                    response = False #unbounded polyhedron\n",
    "        i = i+1    \n",
    "        if response == False:\n",
    "            i = q\n",
    "    \n",
    "    if response == True: #case: partial U intersection I = emptyset\n",
    "        objective = sum((x-cI[p-1])**2)\n",
    "        constraints  = [sum((x-cI[0])**2) <= RI[0]**2]\n",
    "        for k in range(1, p-1):\n",
    "            constraints = constraints + [sum((x-cI[k])**2) <= RI[k]**2]\n",
    "        probINT = cvx.Problem(cvx.Minimize(objective), constraints)  \n",
    "        qcqp = QCQP(probINT)\n",
    "        qcqp.suggest(RANDOM)    \n",
    "        f_cd = qcqp.improve(ADMM)\n",
    "        value = matrix(x.value.reshape(1,n))\n",
    "        s = 0\n",
    "        compteur = 0\n",
    "        while s < q: \n",
    "            if np.sum((value-cU[s])**2, axis=1) >= RU[s]**2:\n",
    "                compteur = compteur+1\n",
    "            s = s +1\n",
    "        if compteur == q:\n",
    "            response == False\n",
    "        \n",
    "    return response"
   ]
  },
  {
   "cell_type": "code",
   "execution_count": null,
   "metadata": {},
   "outputs": [],
   "source": []
  },
  {
   "cell_type": "markdown",
   "metadata": {},
   "source": [
    "<img src=\"http://media.giphy.com/media/3o6Mb3Feec33LawNdm/giphy.gif\"  width=\"300\">\n",
    "\n",
    "<a id=\"3\"></a> \n",
    " \n",
    "# 3. QP vs. QCQP\n",
    "\n",
    "## Exactness"
   ]
  },
  {
   "cell_type": "code",
   "execution_count": 325,
   "metadata": {},
   "outputs": [],
   "source": [
    "#n = nb of variables\n",
    "n = 2\n",
    "#p = nb of elements in the intersection\n",
    "p = 3\n",
    "#p = nb of elements in the union\n",
    "q = 10\n",
    "diff = 1\n",
    "epsilon = 50\n",
    "(cI,RI,cU,RU) = dataGenerator(epsilon,n,p,q,diff)"
   ]
  },
  {
   "cell_type": "code",
   "execution_count": null,
   "metadata": {},
   "outputs": [],
   "source": [
    "plot(cI,RI,cU,RU,p,q, 100)"
   ]
  },
  {
   "cell_type": "code",
   "execution_count": null,
   "metadata": {},
   "outputs": [],
   "source": [
    "#n = nb of variables\n",
    "n = 2\n",
    "#p = nb of elements in the intersection\n",
    "p = 3\n",
    "#p = nb of elements in the union\n",
    "q = 2\n",
    "diff = 1\n",
    "epsilon = 10\n",
    "diff = 1\n",
    "nbQCQP = 0\n",
    "nbQP = 0\n",
    "nbTrue = 0\n",
    "\n",
    "for i in range(0,100):\n",
    "    (cI,RI,cU,RU) = dataGenerator(epsilon,n,p,q,diff)\n",
    "    Response = IsIncluded_PLOT(cI,RI,cU,RU,p,q)\n",
    "    nbTrue = nbTrue + int(Response)\n",
    "    nbQCQP = nbQCQP + int(IsIncluded_QCQP(cI,RI,cU,RU,n,p,q) == Response)   \n",
    "    nbQP = nbQP + int(IsIncluded_QP(cI,RI,cU,RU,n,p,q) == Response)          \n",
    "    print(i+1,nbTrue,nbQCQP,nbQP)"
   ]
  },
  {
   "cell_type": "markdown",
   "metadata": {},
   "source": [
    "#### TABLE 1 OF THE PAPER : dimension 2"
   ]
  },
  {
   "cell_type": "code",
   "execution_count": null,
   "metadata": {
    "scrolled": true
   },
   "outputs": [],
   "source": [
    "#n = nb of variables\n",
    "n = 2\n",
    "#p = nb of elements in the intersection\n",
    "p = 3\n",
    "#p = nb of elements in the union\n",
    "q = 3\n",
    "diff = 1\n",
    "epsilon = 10\n",
    "nbQCQP = 0\n",
    "nbQP = 0\n",
    "nbTrue = 0\n",
    "\n",
    "for i in range(0,100):\n",
    "    (cI,RI,cU,RU) = dataGenerator(epsilon,n,p,q,diff)\n",
    "    j = 1\n",
    "    while IsIncluded_PLOT(cI,RI,cU,RU,p,q) == True:\n",
    "        (cI,RI,cU,RU) = dataGenerator(epsilon,n,p,q,diff)\n",
    "        j = j+1\n",
    "        \n",
    "    Response = IsIncluded_PLOT(cI,RI,cU,RU,p,q)\n",
    "    nbTrue = nbTrue + int(Response)\n",
    "    nbQCQP = nbQCQP + int(IsIncluded_QCQP(cI,RI,cU,RU,n,p,q) == Response)   \n",
    "    nbQP = nbQP + int(IsIncluded_QP(cI,RI,cU,RU,n,p,q) == Response)          \n",
    "    print(i+1,j,nbQCQP,nbQP)"
   ]
  },
  {
   "cell_type": "code",
   "execution_count": null,
   "metadata": {
    "scrolled": true
   },
   "outputs": [],
   "source": [
    "plot(cI,RI,cU,RU,p,q)"
   ]
  },
  {
   "cell_type": "markdown",
   "metadata": {
    "collapsed": true
   },
   "source": [
    "#### TABLE 1 OF THE PAPER : dimension > 2"
   ]
  },
  {
   "cell_type": "code",
   "execution_count": null,
   "metadata": {},
   "outputs": [],
   "source": [
    "#n = nb of variables\n",
    "n = 5\n",
    "#p = nb of elements in the intersection\n",
    "p = 3\n",
    "#p = nb of elements in the union\n",
    "q = 3\n",
    "diff = 1\n",
    "epsilon = 10\n",
    "nbQCQP = 0\n",
    "nbQP = 0\n",
    "nbTrue = 0\n",
    "\n",
    "for i in range(0,100):\n",
    "    (cI,RI,cU,RU) = dataGenerator(epsilon,n,p,q,diff)\n",
    "    j = 1\n",
    "    Response = IsIncluded_QP(cI,RI,cU,RU,n,p,q)\n",
    "    while Response == True:\n",
    "        (cI,RI,cU,RU) = dataGenerator(epsilon,n,p,q,diff)\n",
    "        Response = IsIncluded_QP(cI,RI,cU,RU,n,p,q)\n",
    "        j = j+1\n",
    "    \n",
    "    nbQCQP = nbQCQP + int(IsIncluded_QCQP(cI,RI,cU,RU,n,p,q))   \n",
    "    nbQP = nbQP + int(IsIncluded_QP(cI,RI,cU,RU,n,p,q))          \n",
    "    print(i+1,j,nbQCQP,nbQP)"
   ]
  },
  {
   "cell_type": "markdown",
   "metadata": {},
   "source": [
    "## computationnal time\n",
    "\n",
    "#### TABLE 2 OF THE PAPER"
   ]
  },
  {
   "cell_type": "code",
   "execution_count": 365,
   "metadata": {},
   "outputs": [],
   "source": [
    "import time\n",
    "n = 5\n",
    "#p = nb of elements in the intersection\n",
    "p = 3\n",
    "#p = nb of elements in the union\n",
    "q = 3\n",
    "diff = 1\n",
    "epsilon = 10"
   ]
  },
  {
   "cell_type": "code",
   "execution_count": null,
   "metadata": {},
   "outputs": [],
   "source": [
    "time_QP =0\n",
    "time_QCQ = 0\n",
    "\n",
    "for i in range(0,10):\n",
    "    print(i)\n",
    "    (cI,RI,cU,RU) = dataGenerator(epsilon,n,p,q,diff)\n",
    "    Response = IsIncluded_QP(cI,RI,cU,RU,n,p,q)    \n",
    "    while Response == True:\n",
    "        (cI,RI,cU,RU) = dataGenerator(epsilon,n,p,q,diff)\n",
    "        Response = IsIncluded_QP(cI,RI,cU,RU,n,p,q)\n",
    "        j = j+1\n",
    "    \n",
    "    time_startQP = time.clock()\n",
    "    IsIncluded_QP(cI,RI,cU,RU,n,p,q)      \n",
    "    time_QP = time_QP + (time.clock() - time_startQP)\n",
    "\n",
    "    time_startQCQP = time.clock()\n",
    "    IsIncluded_QCQP(cI,RI,cU,RU,n,p,q)   \n",
    "    time_QCQP = time_QCQP + (time.clock() - time_startQCQP)   \n",
    "\n",
    "print(time_QP,time_QCQP)\n",
    "print(time_QCQP/time_QP)"
   ]
  },
  {
   "cell_type": "code",
   "execution_count": null,
   "metadata": {},
   "outputs": [],
   "source": []
  },
  {
   "cell_type": "code",
   "execution_count": null,
   "metadata": {},
   "outputs": [],
   "source": []
  }
 ],
 "metadata": {
  "kernelspec": {
   "display_name": "Python 2",
   "language": "python",
   "name": "python2"
  },
  "language_info": {
   "codemirror_mode": {
    "name": "ipython",
    "version": 2
   },
   "file_extension": ".py",
   "mimetype": "text/x-python",
   "name": "python",
   "nbconvert_exporter": "python",
   "pygments_lexer": "ipython2",
   "version": "2.7.14"
  }
 },
 "nbformat": 4,
 "nbformat_minor": 2
}
