{
 "cells": [
  {
   "cell_type": "markdown",
   "metadata": {},
   "source": [
    "# Simulations QCQP - equivalent QP\n",
    "\n",
    "<img src=\"http://media.giphy.com/media/elvaNxcznR8Fa/giphy.gif\"  width=\"200\">\n"
   ]
  },
  {
   "cell_type": "code",
   "execution_count": null,
   "metadata": {},
   "outputs": [],
   "source": [
    "#http://www.cvxpy.org/\n",
    "#to solve convex optimization pb\n",
    "import cvxpy as cvx"
   ]
  },
  {
   "cell_type": "code",
   "execution_count": null,
   "metadata": {},
   "outputs": [],
   "source": [
    "#https://github.com/cvxgrp/qcqp\n",
    "#to solve nonconvex QCQP pb\n",
    "from qcqp import *"
   ]
  },
  {
   "cell_type": "code",
   "execution_count": null,
   "metadata": {},
   "outputs": [],
   "source": [
    "#other modules\n",
    "import numpy as np\n",
    "import matplotlib.pyplot as plt\n",
    "from numpy.random import randn"
   ]
  },
  {
   "cell_type": "markdown",
   "metadata": {},
   "source": [
    "## Plan :\n",
    "\n",
    "   [1. Data simulation](#1)\n",
    "\n",
    "   [2. \"isIncluded\" algorithms](#2)  \n",
    "   \n",
    "   [3. QP vs. QCQP](#3) \n",
    "   \n",
    "   [4. Other examples](#4)  "
   ]
  },
  {
   "cell_type": "markdown",
   "metadata": {},
   "source": [
    "<a id=\"1\"></a> \n",
    " \n",
    "# 1. Data simulation"
   ]
  },
  {
   "cell_type": "markdown",
   "metadata": {},
   "source": [
    "Data simulation procedure :\n",
    "\n",
    "Generate a random set of balls I and U (for Intersection and Union)\n",
    "\n",
    "INPUT : \n",
    "\n",
    "epsilon = overlap parameter  \n",
    "n = dimension    \n",
    "p = number of intersection balls  \n",
    "q = number of union balls  \n",
    "diff = ratio of standard deviations for random values of centers between union and intersection balls\n",
    "\n",
    "OUTPUT : set of balls for intersection (cI,RI) and set of balls for exclusion (cU,RU) \n",
    "with cI and cR center points, RI and RU radii."
   ]
  },
  {
   "cell_type": "code",
   "execution_count": null,
   "metadata": {},
   "outputs": [],
   "source": [
    "def dataGenerator(epsilon, n, p, q, diff):\n",
    "    #initial ball\n",
    "    rand = np.random.normal(0, 10, n)\n",
    "    cIU = rand.reshape((1, n))\n",
    "    RIU = np.sqrt((cIU*cIU).sum(axis=1)) + epsilon/2\n",
    "    \n",
    "    i = 0   \n",
    "    while i < p+q:\n",
    "        if i < p:\n",
    "            rand = np.random.normal(0, 10, n)\n",
    "            c = rand.reshape((1, n))\n",
    "            R = np.sqrt((c*c).sum(axis=1)) + epsilon/2\n",
    "        if i >= p:\n",
    "            #sigma = 10*diff and R = distance to 0 + epsilon/2\n",
    "            rand = np.random.normal(0, 10*diff, n)\n",
    "            c = rand.reshape((1, n))\n",
    "            R = np.sqrt((c*c).sum(axis=1)) + epsilon\n",
    "        concat = True\n",
    "        \n",
    "        for j in range(0,cIU.shape[0]):\n",
    "            dist = np.linalg.norm((cIU[j] - c), ord = 1)\n",
    "            if dist < abs(RIU[j]-R): #if inclusion\n",
    "                concat = False\n",
    "        \n",
    "        if concat == True:\n",
    "            cIU = np.concatenate((cIU, c), axis = 0)\n",
    "            RIU = np.concatenate((RIU, R), axis = 0)\n",
    "            i = i + 1\n",
    "    cU = cIU[p+1:p+q+1,]\n",
    "    cI = cIU[0:p,] \n",
    "    RU = RIU[p+1:p+q+1]\n",
    "    RI = RIU[0:p]     \n",
    "    return(cI,RI,cU,RU)"
   ]
  },
  {
   "cell_type": "markdown",
   "metadata": {},
   "source": [
    "Topology of the simulation: study of the intersections and inclusions between balls. If all constraints are verified, we get a matrix of ones."
   ]
  },
  {
   "cell_type": "code",
   "execution_count": null,
   "metadata": {},
   "outputs": [],
   "source": [
    "def topology(cI,RI,cU,RU,n,p,q):\n",
    "    c = np.concatenate((cI, cU), axis=0)\n",
    "    R = np.concatenate((RI, RU), axis=0)\n",
    "    response = np.ones((p+q, p+q))\n",
    "    for i in range(0,p+q):\n",
    "        for j in range(0,p+q):\n",
    "            dist = np.sqrt(sum((c[i]-c[j])*(c[i]-c[j])))\n",
    "            if dist > R[i] + R[j] : \n",
    "                response[i,j] = 0\n",
    "            if dist < R[j] - R[i] : \n",
    "                response[i,j] = 2\n",
    "            if dist < R[i] - R[j] : \n",
    "                response[i,j] = 3\n",
    "                \n",
    "    return response"
   ]
  },
  {
   "cell_type": "markdown",
   "metadata": {},
   "source": [
    "\n",
    "Plot the simulated data in 2D case"
   ]
  },
  {
   "cell_type": "code",
   "execution_count": null,
   "metadata": {},
   "outputs": [],
   "source": [
    "def plot2d(cI,RI,cU,RU,p,q, scale = 30):\n",
    "    fig, ax = plt.subplots() \n",
    "    ax.set_xlim((-scale, scale))\n",
    "    ax.set_ylim((-scale, scale))\n",
    "\n",
    "    for i in range(0, q):\n",
    "        ax.add_artist(plt.Circle(list(cU[i]), RU[i], color='r',  alpha=1))\n",
    "    for i in range(0, p):\n",
    "        ax.add_artist(plt.Circle(list(cI[i]), RI[i], color='b', alpha=.15))"
   ]
  },
  {
   "cell_type": "markdown",
   "metadata": {},
   "source": [
    "### An example"
   ]
  },
  {
   "cell_type": "code",
   "execution_count": null,
   "metadata": {},
   "outputs": [],
   "source": [
    "epsilon = 5\n",
    "diff = 3\n",
    "#n = nb of varialbles\n",
    "n = 2\n",
    "#p = nb of elements in the intersection\n",
    "p = 3\n",
    "#p = nb of elements in the union\n",
    "q = 3\n",
    "(cI, RI, cU, RU) = dataGenerator(epsilon, n, p, q, diff)"
   ]
  },
  {
   "cell_type": "code",
   "execution_count": null,
   "metadata": {},
   "outputs": [],
   "source": [
    "# A matrix filled by ones\n",
    "topology(cI, RI, cU, RU, n, p, q)"
   ]
  },
  {
   "cell_type": "code",
   "execution_count": null,
   "metadata": {
    "scrolled": false
   },
   "outputs": [],
   "source": [
    "plot2d(cI,RI,cU,RU,p,q)"
   ]
  },
  {
   "cell_type": "markdown",
   "metadata": {},
   "source": [
    "<img src=\"http://media.giphy.com/media/bvARFeSkNzIm4/giphy.gif\"  width=\"300\">\n",
    "\n",
    "<a id=\"2\"></a> \n",
    " \n",
    "# 2. \"isIncluded\" algorithms\n",
    "\n",
    "## QCQP"
   ]
  },
  {
   "cell_type": "markdown",
   "metadata": {},
   "source": [
    "Function \"isIncluded\" with QCQP algorithm (the naive algorithm 1.1)"
   ]
  },
  {
   "cell_type": "code",
   "execution_count": null,
   "metadata": {},
   "outputs": [],
   "source": [
    "def IsIncluded_QCQP(cI,RI,cU,RU,n,p,q,i=0):\n",
    "    myReturn = [False,q-i] #response, nb of loop\n",
    "\n",
    "    x = cvx.Variable(n)\n",
    "    while i < q: \n",
    "        objective = -cvx.sum_squares(x - cU[i])\n",
    "        constraints  = [cvx.sum_squares(x - cI[0]) <= RI[0]**2]\n",
    "        for k in range(1, p):\n",
    "            constraints = constraints + [cvx.sum_squares(x - cI[k]) <= RI[k]**2]\n",
    "        for l in range(0, i):\n",
    "            constraints = constraints + [cvx.sum_squares(x - cU[l]) >= RU[l]**2]\n",
    "\n",
    "        prob = cvx.Problem(cvx.Minimize(objective), constraints)  \n",
    "        qcqp = QCQP(prob)\n",
    "        qcqp.suggest(RANDOM) \n",
    "        f_cd = qcqp.improve(ADMM) \n",
    "        #f_cd = qcqp.improve(COORD_DESCENT) \n",
    "        if -f_cd[0] <= RU[i]**2: \n",
    "            myReturn[0] = True\n",
    "            myReturn[1] = i + 1\n",
    "            i = q  \n",
    "        i = i+1\n",
    "        \n",
    "    return myReturn"
   ]
  },
  {
   "cell_type": "markdown",
   "metadata": {},
   "source": [
    "Test IsIncluded_QCQP"
   ]
  },
  {
   "cell_type": "code",
   "execution_count": null,
   "metadata": {},
   "outputs": [],
   "source": [
    "n = 2; p = 3; q = 3; diff =1; epsilon = 10\n",
    "(cI, RI, cU, RU)= dataGenerator(epsilon, n, p, q, diff)\n",
    "IsIncluded_QCQP(cI,RI,cU,RU,n,p,q)"
   ]
  },
  {
   "cell_type": "code",
   "execution_count": null,
   "metadata": {},
   "outputs": [],
   "source": [
    "plot2d(cI,RI,cU,RU,p,q)"
   ]
  },
  {
   "cell_type": "markdown",
   "metadata": {},
   "source": [
    "The parameter i can be chosen equal to q-1 to solve only the last $P_0(q)$ problem."
   ]
  },
  {
   "cell_type": "markdown",
   "metadata": {},
   "source": [
    "Function \"isIncluded\" using plot 2D"
   ]
  },
  {
   "cell_type": "code",
   "execution_count": null,
   "metadata": {},
   "outputs": [],
   "source": [
    "def IsIncluded_PLOT2d(cI,RI,cU,RU,p,q):\n",
    "    h = .1  # step size in the mesh\n",
    "    RR = min(RI)\n",
    "    s = np.argmin(RI)\n",
    "    x_min, x_max =  cI[s,0] - RR, cI[s,0] + RR\n",
    "    y_min, y_max = cI[s,1] - RR, cI[s,1] + RR\n",
    "    xx, yy = np.meshgrid(np.arange(x_min, x_max, h), np.arange(y_min, y_max, h))\n",
    "    i = 0\n",
    "    while i < len(xx):\n",
    "        j = 0\n",
    "        while j < len(yy):\n",
    "            response = True\n",
    "            for k in range(0,p):\n",
    "                if((xx[i,j] - cI[k,0])**2 + (yy[i,j] - cI[k,1])**2 > RI[k]**2):\n",
    "                    response = False\n",
    "                    k = p\n",
    "            if response == True:\n",
    "                for l in range(0,q):\n",
    "                    if((xx[i,j] - cU[l,0])**2 + (yy[i,j] - cU[l,1])**2 <= RU[l]**2):\n",
    "                        response = False\n",
    "                        l = q\n",
    "\n",
    "            if response == True:\n",
    "                i = len(xx)\n",
    "                j = len(yy)\n",
    "            j= j + 1\n",
    "        i=i + 1\n",
    "    return not response"
   ]
  },
  {
   "cell_type": "markdown",
   "metadata": {},
   "source": [
    "Function \"isIncluded\" with QP algorithm"
   ]
  },
  {
   "cell_type": "code",
   "execution_count": null,
   "metadata": {},
   "outputs": [],
   "source": [
    "from cvxopt import matrix, solvers #to solve convex optimization pb\n",
    "import cdd #to solve vertex enumeration\n",
    "import mosek"
   ]
  },
  {
   "cell_type": "code",
   "execution_count": null,
   "metadata": {},
   "outputs": [],
   "source": [
    "def IsIncluded_QP(cI, RI, cU, RU, n, p, q):\n",
    "    myReturn = [True, q, 0] #response, nb of loop, nb of vertex enum\n",
    "    \n",
    "    i = 0\n",
    "    while i < q: \n",
    "        #Create constraints G*x <= h\n",
    "        cU2 = np.delete(cU, (i), axis=0)\n",
    "        RU2 = np.delete(RU, (i), axis=0)\n",
    "        h1 = RI**2 - RU[i]**2 + sum(cU[i]**2) - (cI**2).sum(axis=1)\n",
    "        h2 = RU[i]**2 - RU2**2 - sum(cU[i]**2) + (cU2**2).sum(axis=1)\n",
    "        h = np.concatenate((h1,h2), axis=0)\n",
    "        G1 = 2*(cU[i] - cI)\n",
    "        G2 = 2*(cU2 - cU[i])\n",
    "        G = np.matrix(np.concatenate((G1,G2), axis=0))\n",
    "\n",
    "        # Create variable.\n",
    "        x = cvx.Variable(n)\n",
    "        # Pb solution.    \n",
    "        constraints = [G*x <= h]\n",
    "        obj = cvx.Minimize(cvx.sum_squares(x-cU[i]))\n",
    "        prob = cvx.Problem(obj, constraints)\n",
    "        \n",
    "        if prob.solve() <RU[i]**2: #Study of the intersection circle - polyhedron -> vertex enumeration \n",
    "            myReturn[2] = myReturn[2] + 1\n",
    "            hh = h.reshape(G.shape[0], 1) \n",
    "            m = np.asarray(np.concatenate((hh,-G), axis=1))\n",
    "            mat = cdd.Matrix(m, number_type='float')\n",
    "            mat.rep_type = cdd.RepType.INEQUALITY\n",
    "            poly = cdd.Polyhedron(mat)\n",
    "            result = np.array(poly.get_generators())\n",
    "            \n",
    "            if result.shape[0] > 0:\n",
    "                if (all(result[:,0] == 1) == True):#polyhedron = polytope. test each edge\n",
    "                    for j in range(0,result.shape[0]):\n",
    "                        if (sum((result[j,1:]-cU[i])**2) > RU[i]**2):#vertex outside the ball\n",
    "                            myReturn[0] = False\n",
    "                else:\n",
    "                    myReturn[0] = False #unbounded polyhedron   \n",
    "        if myReturn[0] == False:\n",
    "            myReturn[1] = i + 1\n",
    "            i = q\n",
    "        \n",
    "        i = i+1 \n",
    "    \n",
    "    if myReturn[0] == True: #case: partial U intersection I = emptyset. test a point\n",
    "        objective = cvx.sum_squares(x-cI[p-1])\n",
    "        constraints  = [cvx.sum_squares(x-cI[0]) <= RI[0]**2]\n",
    "        for k in range(1, p-1):\n",
    "            constraints = constraints + [cvx.sum_squares(x-cI[k]) <= RI[k]**2]\n",
    "        probINT = cvx.Problem(cvx.Minimize(objective), constraints)  \n",
    "        qcqp = QCQP(probINT)\n",
    "        qcqp.suggest(RANDOM)    \n",
    "        f_cd = qcqp.improve(COORD_DESCENT)\n",
    "        value = matrix(x.value.reshape(1,n))\n",
    "        s = 0\n",
    "        compteur = 0\n",
    "        while s < q: \n",
    "            if np.sum((value-cU[s])**2, axis = 1) >= RU[s]**2:\n",
    "                compteur = compteur + 1\n",
    "            s = s + 1\n",
    "        if compteur == q:\n",
    "            myReturn[0] == False\n",
    "        \n",
    "    return myReturn"
   ]
  },
  {
   "cell_type": "markdown",
   "metadata": {},
   "source": [
    "* * *"
   ]
  },
  {
   "cell_type": "markdown",
   "metadata": {},
   "source": [
    "### An example"
   ]
  },
  {
   "cell_type": "code",
   "execution_count": null,
   "metadata": {},
   "outputs": [],
   "source": [
    "epsilon = 10\n",
    "diff = 1\n",
    "#n = nb of varialbles\n",
    "n = 2\n",
    "#p = nb of elements in the intersection\n",
    "p = 3\n",
    "#p = nb of elements in the union\n",
    "q = 2\n",
    "(cI, RI, cU, RU) = dataGenerator(epsilon, n, p, q, diff)"
   ]
  },
  {
   "cell_type": "code",
   "execution_count": null,
   "metadata": {},
   "outputs": [],
   "source": [
    "IsIncluded_PLOT2d(cI, RI, cU, RU, p, q)"
   ]
  },
  {
   "cell_type": "code",
   "execution_count": null,
   "metadata": {},
   "outputs": [],
   "source": [
    "IsIncluded_QCQP(cI, RI, cU, RU, n, p, q)"
   ]
  },
  {
   "cell_type": "code",
   "execution_count": null,
   "metadata": {},
   "outputs": [],
   "source": [
    "IsIncluded_QCQP(cI, RI, cU, RU, n, p, q, q-1)"
   ]
  },
  {
   "cell_type": "code",
   "execution_count": null,
   "metadata": {},
   "outputs": [],
   "source": [
    "IsIncluded_QP(cI, RI, cU, RU, n, p, q)"
   ]
  },
  {
   "cell_type": "code",
   "execution_count": null,
   "metadata": {
    "scrolled": true
   },
   "outputs": [],
   "source": [
    "plot2d(cI, RI, cU, RU, p, q)"
   ]
  },
  {
   "cell_type": "markdown",
   "metadata": {},
   "source": [
    "<img src=\"http://media.giphy.com/media/3o6Mb3Feec33LawNdm/giphy.gif\"  width=\"300\">\n",
    "\n",
    "<a id=\"3\"></a> \n",
    " \n",
    "# 3. QP vs. QCQP\n",
    "\n",
    "## Exactness"
   ]
  },
  {
   "cell_type": "code",
   "execution_count": null,
   "metadata": {
    "scrolled": true
   },
   "outputs": [],
   "source": [
    "#n = nb of variables\n",
    "n = 2\n",
    "#p = nb of elements in the intersection\n",
    "p = 3\n",
    "#p = nb of elements in the union\n",
    "q = 2\n",
    "epsilon = 10\n",
    "diff = 1\n",
    "nbQCQP = 0\n",
    "nbQCQPbis = 0\n",
    "nbQP = 0\n",
    "nbTrue = 0\n",
    "\n",
    "print(\"ITERATION\", \"nbTrue\", \"# QCQP = exactSol\",\"# QCQP(q-1) = exactSol\" , \"# QP = exactSol\")\n",
    "for i in range(0,10):\n",
    "    (cI,RI,cU,RU) = dataGenerator(epsilon,n,p,q,diff)\n",
    "    Response = IsIncluded_PLOT2d(cI,RI,cU,RU,p,q)\n",
    "    nbTrue = nbTrue + int(Response)\n",
    "    \n",
    "    resp1 = IsIncluded_QCQP(cI,RI,cU,RU,n,p,q)\n",
    "    resp1BIS = IsIncluded_QCQP(cI,RI,cU,RU,n,p,q,q-1)      \n",
    "    resp2 = IsIncluded_QP(cI,RI,cU,RU,n,p,q)\n",
    "    \n",
    "    nbQCQP = nbQCQP + int(resp1[0] == Response) \n",
    "    nbQCQPbis = nbQCQPbis + int(resp1BIS[0] == Response)          \n",
    "    nbQP = nbQP + int(resp2[0] == Response) \n",
    "    \n",
    "    print(i+1,nbTrue,nbQCQP,nbQCQPbis,nbQP)\n",
    "    \n",
    "    if(Response != resp2[0]):\n",
    "        plot2d(cI,RI,cU,RU,p,q)\n",
    "        break"
   ]
  },
  {
   "cell_type": "markdown",
   "metadata": {},
   "source": [
    "#### TABLE 1 OF THE PAPER : dimension 2"
   ]
  },
  {
   "cell_type": "code",
   "execution_count": null,
   "metadata": {
    "scrolled": true
   },
   "outputs": [],
   "source": [
    "#n = nb of variables\n",
    "n = 2\n",
    "#p = nb of elements in the intersection\n",
    "p = 3\n",
    "#p = nb of elements in the union\n",
    "q = 3\n",
    "epsilon = 10\n",
    "diff = 1\n",
    "nbQCQP = 0\n",
    "nbQCQPbis = 0\n",
    "nbQP = 0\n",
    "\n",
    "print(\"ITERATION\", \"nb Simu to get False\", \"# QCQP = exactSol\",\"# QCQP(q-1) = exactSol\", \"# QP = exactSol\")\n",
    "\n",
    "for i in range(0,100):\n",
    "    (cI,RI,cU,RU) = dataGenerator(epsilon,n,p,q,diff)\n",
    "    j = 1\n",
    "    Response = IsIncluded_PLOT2d(cI,RI,cU,RU,p,q)\n",
    "    while Response == True:\n",
    "        (cI,RI,cU,RU) = dataGenerator(epsilon,n,p,q,diff)\n",
    "        Response = IsIncluded_PLOT2d(cI,RI,cU,RU,p,q)\n",
    "        j = j+1\n",
    "        \n",
    "    nbQCQP = nbQCQP + int(IsIncluded_QCQP(cI,RI,cU,RU,n,p,q)[0] == Response)   \n",
    "    nbQCQPbis = nbQCQPbis + int(IsIncluded_QCQP(cI,RI,cU,RU,n,p,q,q-1)[0]   == Response) \n",
    "    nbQP = nbQP + int(IsIncluded_QP(cI,RI,cU,RU,n,p,q)[0] == Response)          \n",
    "    print(i+1,j, nbQCQP, nbQCQPbis, nbQP)"
   ]
  },
  {
   "cell_type": "code",
   "execution_count": null,
   "metadata": {
    "scrolled": true
   },
   "outputs": [],
   "source": []
  },
  {
   "cell_type": "markdown",
   "metadata": {
    "collapsed": true
   },
   "source": [
    "#### TABLE 1 OF THE PAPER : dimension > 2"
   ]
  },
  {
   "cell_type": "code",
   "execution_count": null,
   "metadata": {},
   "outputs": [],
   "source": [
    "#n = nb of variables\n",
    "n = 3\n",
    "#p = nb of elements in the intersection\n",
    "p = 3\n",
    "#p = nb of elements in the union\n",
    "q = 3\n",
    "diff = 1\n",
    "epsilon = 10\n",
    "nbQCQP = 0\n",
    "nbQCQPbis = 0\n",
    "nbQP = 0\n",
    "nbTrue = 0\n",
    "\n",
    "print(\"ITERATION\", \"nb Simu to get False\", \"# QCQP = QP\",\"# QCQP(q-1) = QP\", \"# QP = False\")\n",
    "\n",
    "for i in range(0,100):\n",
    "    (cI,RI,cU,RU) = dataGenerator(epsilon,n,p,q,diff)\n",
    "    j = 1\n",
    "    Response = IsIncluded_QP(cI,RI,cU,RU,n,p,q)\n",
    "    while Response[0] == True:\n",
    "        (cI,RI,cU,RU) = dataGenerator(epsilon,n,p,q,diff)\n",
    "        Response = IsIncluded_QP(cI,RI,cU,RU,n,p,q)\n",
    "        j = j+1\n",
    "    \n",
    "    nbQCQP = nbQCQP + (1-int(IsIncluded_QCQP(cI,RI,cU,RU,n,p,q)[0]))\n",
    "    nbQCQPbis = nbQCQPbis + (1-int(IsIncluded_QCQP(cI,RI,cU,RU,n,p,q,q-1)[0]))  \n",
    "    nbQP = nbQP + (1-int(Response[0]))         \n",
    "    print(i+1,j,nbQCQP,nbQCQPbis,nbQP)"
   ]
  },
  {
   "cell_type": "markdown",
   "metadata": {},
   "source": [
    "## computational time\n",
    "\n",
    "#### Last figure of the paper"
   ]
  },
  {
   "cell_type": "code",
   "execution_count": null,
   "metadata": {},
   "outputs": [],
   "source": [
    "import time\n",
    "n = 5\n",
    "#p = nb of elements in the intersection\n",
    "p = 3\n",
    "#p = nb of elements in the union\n",
    "q = 3\n",
    "diff = 1\n",
    "epsilon = 10"
   ]
  },
  {
   "cell_type": "markdown",
   "metadata": {},
   "source": [
    "### Comparison over 1 example (table 2 of the paper)"
   ]
  },
  {
   "cell_type": "code",
   "execution_count": null,
   "metadata": {},
   "outputs": [],
   "source": [
    "time_QP = 0\n",
    "time_QCQP = 0\n",
    "temp_time_QP = 0\n",
    "temp_time_QCQP = 0\n",
    "\n",
    "for i in range(0,10):\n",
    "    j = 1   \n",
    "    (cI,RI,cU,RU) = dataGenerator(epsilon,n,p,q,diff)\n",
    "    Response = IsIncluded_QP(cI,RI,cU,RU,n,p,q)\n",
    "    while Response[0] == True:\n",
    "        (cI,RI,cU,RU) = dataGenerator(epsilon,n,p,q,diff)\n",
    "        Response = IsIncluded_QP(cI,RI,cU,RU,n,p,q)\n",
    "        j = j + 1\n",
    "    \n",
    "    time_startQP = time.clock()\n",
    "    IsIncluded_QP(cI,RI,cU,RU,n,p,q)\n",
    "    temp_time_QP = (time.clock() - time_startQP)\n",
    "    time_QP = time_QP + temp_time_QP\n",
    "\n",
    "    time_startQCQP = time.clock()\n",
    "    Response = IsIncluded_QCQP(cI,RI,cU,RU,n,p,q)   \n",
    "    temp_time_QCQP = (time.clock() - time_startQCQP)\n",
    "    time_QCQP = time_QCQP + temp_time_QCQP\n",
    "    print(i, j, temp_time_QP, temp_time_QCQP, Response[0], Response[1])\n",
    "\n",
    "print(time_QP,time_QCQP)\n",
    "print(time_QCQP/time_QP)"
   ]
  },
  {
   "cell_type": "code",
   "execution_count": null,
   "metadata": {},
   "outputs": [],
   "source": []
  },
  {
   "cell_type": "markdown",
   "metadata": {},
   "source": [
    "### Mean time with respect to dimension n"
   ]
  },
  {
   "cell_type": "code",
   "execution_count": null,
   "metadata": {},
   "outputs": [],
   "source": [
    "#p = nb of elements in the intersection\n",
    "p = 3\n",
    "#p = nb of elements in the union\n",
    "q = 3\n",
    "diff = 1\n",
    "epsilon = 10\n",
    "nbQCQP = 0\n",
    "nbQCQPbis = 0\n",
    "nbQP = 0\n",
    "nbTrue = 0\n",
    "nbloops = 0\n",
    "nbVertex = 0\n",
    "print(\"ITERATION\", \"time_QP vs dimension\")\n",
    "\n",
    "res = list()\n",
    "u = 10\n",
    "for n in range(10, 2000, 10):\n",
    "    j = 1\n",
    "    time_QP = 0\n",
    "    nbloops = 0\n",
    "    nbVertex = 0\n",
    "    for i in range(0,u):\n",
    "        (cI,RI,cU,RU) = dataGenerator(epsilon,n,p,q,diff)\n",
    "        Response = IsIncluded_QP(cI,RI,cU,RU,n,p,q)    \n",
    "        while Response == True:\n",
    "            (cI,RI,cU,RU) = dataGenerator(epsilon,n,p,q,diff)\n",
    "            Response = IsIncluded_QP(cI,RI,cU,RU,n,p,q)\n",
    "            j = j + 1\n",
    "        \n",
    "        time_startQP = time.clock()\n",
    "        Response = IsIncluded_QP(cI,RI,cU,RU,n,p,q)      \n",
    "        time_QP = time_QP + (time.clock() - time_startQP)   \n",
    "        nbloops = nbloops + Response[1]\n",
    "        nbVertex = nbVertex + Response[2]\n",
    "    res.append(time_QP/u) #save for plotting\n",
    "    print(n,j,time_QP/u, nbloops, nbVertex)\n",
    "print(\"THE END\")"
   ]
  },
  {
   "cell_type": "code",
   "execution_count": null,
   "metadata": {},
   "outputs": [],
   "source": [
    "res"
   ]
  },
  {
   "cell_type": "markdown",
   "metadata": {},
   "source": [
    "<img src=\"http://media.giphy.com/media/3o6Mb3Feec33LawNdm/giphy.gif\"  width=\"300\">\n"
   ]
  }
 ],
 "metadata": {
  "kernelspec": {
   "display_name": "Python 2",
   "language": "python",
   "name": "python2"
  },
  "language_info": {
   "codemirror_mode": {
    "name": "ipython",
    "version": 2
   },
   "file_extension": ".py",
   "mimetype": "text/x-python",
   "name": "python",
   "nbconvert_exporter": "python",
   "pygments_lexer": "ipython2",
   "version": "2.7.15"
  }
 },
 "nbformat": 4,
 "nbformat_minor": 2
}
