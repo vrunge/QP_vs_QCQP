{
 "cells": [
  {
   "cell_type": "markdown",
   "metadata": {},
   "source": [
    "# Simulation QCQP - equivalent QP\n",
    "\n",
    "<img src=\"http://media.giphy.com/media/elvaNxcznR8Fa/giphy.gif\"  width=\"200\">\n"
   ]
  },
  {
   "cell_type": "code",
   "execution_count": 136,
   "metadata": {},
   "outputs": [],
   "source": [
    "import cvxpy as cvx\n",
    "import numpy as np\n",
    "import matplotlib.pyplot as plt\n",
    "from qcqp import *\n",
    "from numpy.random import randn\n"
   ]
  },
  {
   "cell_type": "markdown",
   "metadata": {},
   "source": [
    "## Plan :\n",
    "\n",
    "   [- QCQP](#1)\n",
    "   \n",
    "   [- QP](#2)\n",
    "   \n",
    "   [- QP vs. QCQP](#3)   "
   ]
  },
  {
   "cell_type": "markdown",
   "metadata": {},
   "source": [
    "<a id=\"1\"></a> \n",
    " \n",
    "# 1. QCQP\n",
    "\n",
    "## Functions"
   ]
  },
  {
   "cell_type": "markdown",
   "metadata": {},
   "source": [
    "Function isIncluded with QCQP algorithm"
   ]
  },
  {
   "cell_type": "code",
   "execution_count": 153,
   "metadata": {},
   "outputs": [],
   "source": [
    "def IsIncluded_QCQP(cI,RI,cU,RU,n,p,q):\n",
    "    i = 0\n",
    "    response = False\n",
    "    x = cvx.Variable(n)\n",
    "    while i < q: \n",
    "        objective = -sum((x-cU[i])**2)\n",
    "        constraints  = [sum((x-cI[0])**2) <= RI[0]**2]\n",
    "        for k in range(1, p):\n",
    "            constraints = constraints + [sum((x-cI[k])**2) <= RI[k]**2]\n",
    "        for l in range(0, i):\n",
    "            constraints = constraints + [sum((x-cU[l])**2) >= RU[l]**2]\n",
    "\n",
    "        prob = cvx.Problem(cvx.Minimize(objective), constraints)  \n",
    "        qcqp = QCQP(prob)\n",
    "        qcqp.suggest(RANDOM)  \n",
    "        #qcqp.suggest(SDR,  solver=cvx.CVXOPT)\n",
    "        #qcqp.suggest(SPECTRAL)\n",
    "        #f_cd = qcqp.improve(COORD_DESCENT) \n",
    "        f_cd = qcqp.improve(ADMM) \n",
    "        \n",
    "        if -f_cd[0] <= RU[i]**2: \n",
    "            response = True\n",
    "            i = q  \n",
    "            \n",
    "        i = i+1\n",
    "    return response"
   ]
  },
  {
   "cell_type": "markdown",
   "metadata": {},
   "source": [
    "Function IsIncluded using plot 2D"
   ]
  },
  {
   "cell_type": "code",
   "execution_count": 154,
   "metadata": {},
   "outputs": [],
   "source": [
    "def IsIncluded_PLOT(cI,RI,cU,RU,p,q):\n",
    "    h = .1  # step size in the mesh\n",
    "    x_min, x_max =  -30, 30\n",
    "    y_min, y_max = -30, 30\n",
    "    xx, yy = np.meshgrid(np.arange(x_min, x_max, h),np.arange(y_min, y_max, h))\n",
    "    i = 0\n",
    "    while i < len(xx):\n",
    "        j = 0\n",
    "        while j < len(yy):\n",
    "            response = True\n",
    "            for k in range(0,p):\n",
    "                if((xx[i,j]-cI[k,0])**2+(yy[i,j]-cI[k,1])**2>RI[k]**2):\n",
    "                    response = False\n",
    "                    k = p\n",
    "            if response == True:\n",
    "                for l in range(0,q):\n",
    "                    if((xx[i,j]-cU[l,0])**2+(yy[i,j]-cU[l,1])**2<=RU[l]**2):\n",
    "                        response = False\n",
    "                        l = q\n",
    "\n",
    "            if response == True:\n",
    "                #print(xx[i,j],yy[i,j])\n",
    "                i = len(xx)\n",
    "                j = len(yy)\n",
    "            j= j+1\n",
    "        i=i+1\n",
    "    return not response"
   ]
  },
  {
   "cell_type": "markdown",
   "metadata": {},
   "source": [
    "Function topology"
   ]
  },
  {
   "cell_type": "code",
   "execution_count": 155,
   "metadata": {},
   "outputs": [],
   "source": [
    "def topology(cI,RI,cU,RU,n,p,q):\n",
    "    c = np.concatenate((cI, cU), axis=0)\n",
    "    R = np.concatenate((RI, RU), axis=0)\n",
    "    response = np.ones((p+q, p+q))\n",
    "    for i in range(0,p+q):\n",
    "        for j in range(0,p+q):\n",
    "            dist = np.sqrt(sum((c[i]-c[j])*(c[i]-c[j])))\n",
    "            if dist > R[i]+R[j] : \n",
    "                response[i,j] = 0\n",
    "            if dist < R[j]-R[i] : \n",
    "                response[i,j] = 2\n",
    "            if dist < R[i]-R[j] : \n",
    "                response[i,j] = 3\n",
    "                \n",
    "    return response"
   ]
  },
  {
   "cell_type": "markdown",
   "metadata": {},
   "source": [
    "Function plot 2D"
   ]
  },
  {
   "cell_type": "code",
   "execution_count": 181,
   "metadata": {},
   "outputs": [],
   "source": [
    "def plot(cI,RI,cU,RU,p,q, scale = 30):\n",
    "    fig, ax = plt.subplots() \n",
    "    ax.set_xlim((-scale, scale))\n",
    "    ax.set_ylim((-scale, scale))\n",
    "\n",
    "    for i in range(0, q):\n",
    "        ax.add_artist(plt.Circle(list(cU[i]), RU[i], color='r',  alpha=1))\n",
    "    for i in range(0, p):\n",
    "        ax.add_artist(plt.Circle(list(cI[i]), RI[i], color='b', alpha=.15))"
   ]
  },
  {
   "cell_type": "markdown",
   "metadata": {},
   "source": [
    "Function data generator"
   ]
  },
  {
   "cell_type": "code",
   "execution_count": 157,
   "metadata": {},
   "outputs": [],
   "source": [
    "def dataGenerator(epsilon,n,p,q,diff):\n",
    "    rand = np.random.normal(0, 10, n)\n",
    "    cI = rand.reshape((1, n))\n",
    "    RI = np.sqrt((cI*cI).sum(axis=1)) + epsilon\n",
    "    \n",
    "    i = 0   \n",
    "    while i < p+q:\n",
    "        if i < p:\n",
    "            rand = np.random.normal(0, 10, n)\n",
    "            c = rand.reshape((1, n))\n",
    "            R = np.sqrt((c*c).sum(axis=1)) + epsilon\n",
    "        if i >= p:\n",
    "            rand = np.random.normal(0, 10*diff, n)\n",
    "            c = rand.reshape((1, n))\n",
    "            R = np.sqrt((c*c).sum(axis=1)) + epsilon/2\n",
    "        concat = True\n",
    "        \n",
    "        for j in range(0,cI.shape[0]):\n",
    "            dist = np.linalg.norm((cI[j] - c), ord=1)\n",
    "            if dist < abs(RI[j]-R):\n",
    "                concat = False\n",
    "        \n",
    "        if concat == True:\n",
    "            cI = np.concatenate((cI, c), axis=0)\n",
    "            RI = np.concatenate((RI, R), axis=0)\n",
    "            i = i + 1\n",
    "    cU = cI[0:q,]\n",
    "    cI = cI[q+1:p+q+1,] \n",
    "    RU = RI[0:q]\n",
    "    RI = RI[q+1:p+q+1]     \n",
    "    return(cI,RI,cU,RU)"
   ]
  },
  {
   "cell_type": "markdown",
   "metadata": {},
   "source": [
    "## Simple test"
   ]
  },
  {
   "cell_type": "code",
   "execution_count": 158,
   "metadata": {
    "scrolled": true
   },
   "outputs": [],
   "source": [
    "epsilon = 5\n",
    "#n = nb of varialbles\n",
    "n = 2\n",
    "#p = nb of elements in the intersection\n",
    "p = 5\n",
    "#p = nb of elements in the union\n",
    "q = 2"
   ]
  },
  {
   "cell_type": "code",
   "execution_count": 159,
   "metadata": {},
   "outputs": [],
   "source": [
    "rand = np.random.normal(0, 10, p*n)\n",
    "cI = rand.reshape((p, n))\n",
    "RI = np.sqrt((cI*cI).sum(axis=1)) + epsilon\n",
    "\n",
    "rand = np.random.normal(0, 10, q*n)\n",
    "cU = rand.reshape((q, n))\n",
    "RU = np.sqrt((cU*cU).sum(axis=1)) + epsilon/2"
   ]
  },
  {
   "cell_type": "code",
   "execution_count": 160,
   "metadata": {},
   "outputs": [
    {
     "data": {
      "text/plain": [
       "False"
      ]
     },
     "execution_count": 160,
     "metadata": {},
     "output_type": "execute_result"
    }
   ],
   "source": [
    "IsIncluded_QCQP(cI,RI,cU,RU,n,p,q)"
   ]
  },
  {
   "cell_type": "code",
   "execution_count": 161,
   "metadata": {},
   "outputs": [
    {
     "data": {
      "text/plain": [
       "False"
      ]
     },
     "execution_count": 161,
     "metadata": {},
     "output_type": "execute_result"
    }
   ],
   "source": [
    "IsIncluded_PLOT(cI,RI,cU,RU,p,q)"
   ]
  },
  {
   "cell_type": "code",
   "execution_count": 162,
   "metadata": {},
   "outputs": [
    {
     "data": {
      "text/plain": [
       "array([[1., 1., 1., 1., 1., 1., 1.],\n",
       "       [1., 1., 1., 1., 1., 1., 1.],\n",
       "       [1., 1., 1., 1., 1., 1., 1.],\n",
       "       [1., 1., 1., 1., 1., 1., 1.],\n",
       "       [1., 1., 1., 1., 1., 1., 1.],\n",
       "       [1., 1., 1., 1., 1., 1., 1.],\n",
       "       [1., 1., 1., 1., 1., 1., 1.]])"
      ]
     },
     "execution_count": 162,
     "metadata": {},
     "output_type": "execute_result"
    }
   ],
   "source": [
    "topology(cI,RI,cU,RU,n,p,q)"
   ]
  },
  {
   "cell_type": "code",
   "execution_count": 163,
   "metadata": {},
   "outputs": [
    {
     "data": {
      "image/png": "[encoded data removed]",
      "text/plain": [
       "<matplotlib.figure.Figure at 0x302aa6a0>"
      ]
     },
     "metadata": {},
     "output_type": "display_data"
    }
   ],
   "source": [
    "plot(cI,RI,cU,RU,p,q)"
   ]
  },
  {
   "cell_type": "code",
   "execution_count": null,
   "metadata": {},
   "outputs": [],
   "source": []
  },
  {
   "cell_type": "markdown",
   "metadata": {},
   "source": [
    "<img src=\"http://media.giphy.com/media/bvARFeSkNzIm4/giphy.gif\"  width=\"300\">\n",
    "\n",
    "<a id=\"2\"></a> \n",
    " \n",
    "# 2. QP\n",
    "\n",
    "## Functions"
   ]
  },
  {
   "cell_type": "code",
   "execution_count": 164,
   "metadata": {},
   "outputs": [],
   "source": [
    "from cvxopt import matrix, solvers\n",
    "import cdd \n",
    "import mosek"
   ]
  },
  {
   "cell_type": "code",
   "execution_count": 165,
   "metadata": {},
   "outputs": [],
   "source": [
    "def IsIncluded_QP(cI,RI,cU,RU,n,p,q):\n",
    "    i = 0\n",
    "    response = True\n",
    "    x = cvx.Variable(n)\n",
    "    while i < q: \n",
    "        #Create constraints G*x <= h\n",
    "        cU2 = np.delete(cU, (i), axis=0)\n",
    "        RU2 = np.delete(RU, (i), axis=0)\n",
    "        h1 = RI**2 - RU[i]**2 + sum(cU[i]**2) - (cI**2).sum(axis=1)\n",
    "        h2 = RU[i]**2 - RU2**2 - sum(cU[i]**2) + (cU2**2).sum(axis=1)\n",
    "        h = np.concatenate((h1,h2), axis=0)\n",
    "        G1 = 2*(cU[i] - cI)\n",
    "        G2 = 2*(cU2 - cU[i])\n",
    "        G = np.matrix(np.concatenate((G1,G2), axis=0))\n",
    "\n",
    "        # Create variable.\n",
    "        x = cvx.Variable(n)\n",
    "        # Pb solution.    \n",
    "        constraints = [G*x <= h]\n",
    "        obj = cvx.Minimize(sum((x-cU[i])**2))\n",
    "        prob = cvx.Problem(obj, constraints)\n",
    "        \n",
    "        if prob.solve() <RU[i]**2: #Study of the intersection circle - polyhedron   \n",
    "            hh = h.reshape(G.shape[0], 1) \n",
    "            m = np.asarray(np.concatenate((hh,-G), axis=1))\n",
    "            mat = cdd.Matrix(m, number_type='float')\n",
    "            mat.rep_type = cdd.RepType.INEQUALITY\n",
    "            poly = cdd.Polyhedron(mat)\n",
    "            result = np.array(poly.get_generators())\n",
    "            #print(result)\n",
    "            if result.shape[0]>0:\n",
    "                if (all(result[:,0] == 1) == True):#polyhedron = polytope\n",
    "                    for j in range(0,result.shape[0]):\n",
    "                        if (sum((result[j,1:]-cU[i])**2) > RU[i]**2):#vertex outside the ball\n",
    "                            response = False\n",
    "                else:\n",
    "                    response = False #unbounded polyhedron\n",
    "        i = i+1    \n",
    "        if response == False:\n",
    "            i = q\n",
    "    \n",
    "    if response == True: #case: partial U intersection I = emptyset\n",
    "        objective = sum((x-cI[p-1])**2)\n",
    "        constraints  = [sum((x-cI[0])**2) <= RI[0]**2]\n",
    "        for k in range(1, p-1):\n",
    "            constraints = constraints + [sum((x-cI[k])**2) <= RI[k]**2]\n",
    "        probINT = cvx.Problem(cvx.Minimize(objective), constraints)  \n",
    "        qcqp = QCQP(probINT)\n",
    "        qcqp.suggest(RANDOM)    \n",
    "        f_cd = qcqp.improve(ADMM)\n",
    "        value = matrix(x.value.reshape(1,n))\n",
    "        s = 0\n",
    "        compteur = 0\n",
    "        while s < q: \n",
    "            if np.sum((value-cU[s])**2, axis=1) >= RU[s]**2:\n",
    "                compteur = compteur+1\n",
    "            s = s +1\n",
    "        if compteur == q:\n",
    "            response == False\n",
    "        \n",
    "    return response"
   ]
  },
  {
   "cell_type": "code",
   "execution_count": null,
   "metadata": {},
   "outputs": [],
   "source": []
  },
  {
   "cell_type": "markdown",
   "metadata": {},
   "source": [
    "<img src=\"http://media.giphy.com/media/3o6Mb3Feec33LawNdm/giphy.gif\"  width=\"300\">\n",
    "\n",
    "<a id=\"3\"></a> \n",
    " \n",
    "# 3. QP vs. QCQP\n",
    "\n",
    "## Exactness"
   ]
  },
  {
   "cell_type": "code",
   "execution_count": 325,
   "metadata": {},
   "outputs": [],
   "source": [
    "#n = nb of variables\n",
    "n = 2\n",
    "#p = nb of elements in the intersection\n",
    "p = 3\n",
    "#p = nb of elements in the union\n",
    "q = 10\n",
    "diff = 1\n",
    "epsilon = 50\n",
    "(cI,RI,cU,RU) = dataGenerator(epsilon,n,p,q,diff)"
   ]
  },
  {
   "cell_type": "code",
   "execution_count": 326,
   "metadata": {},
   "outputs": [
    {
     "data": {
      "image/png": "[encoded data removed]",
      "text/plain": [
       "<matplotlib.figure.Figure at 0xba01358>"
      ]
     },
     "metadata": {},
     "output_type": "display_data"
    }
   ],
   "source": [
    "plot(cI,RI,cU,RU,p,q, 100)"
   ]
  },
  {
   "cell_type": "code",
   "execution_count": 262,
   "metadata": {},
   "outputs": [
    {
     "name": "stdout",
     "output_type": "stream",
     "text": [
      "(1, 1, 1, 1)\n",
      "(2, 1, 2, 2)\n",
      "(3, 1, 3, 3)\n",
      "(4, 1, 4, 4)\n",
      "(5, 2, 5, 5)\n"
     ]
    },
    {
     "ename": "KeyboardInterrupt",
     "evalue": "",
     "output_type": "error",
     "traceback": [
      "\u001b[1;31m---------------------------------------------------------------------------\u001b[0m",
      "\u001b[1;31mKeyboardInterrupt\u001b[0m                         Traceback (most recent call last)",
      "\u001b[1;32m<ipython-input-262-599eeaac0727>\u001b[0m in \u001b[0;36m<module>\u001b[1;34m()\u001b[0m\n\u001b[0;32m     14\u001b[0m \u001b[1;32mfor\u001b[0m \u001b[0mi\u001b[0m \u001b[1;32min\u001b[0m \u001b[0mrange\u001b[0m\u001b[1;33m(\u001b[0m\u001b[1;36m0\u001b[0m\u001b[1;33m,\u001b[0m\u001b[1;36m100\u001b[0m\u001b[1;33m)\u001b[0m\u001b[1;33m:\u001b[0m\u001b[1;33m\u001b[0m\u001b[0m\n\u001b[0;32m     15\u001b[0m     \u001b[1;33m(\u001b[0m\u001b[0mcI\u001b[0m\u001b[1;33m,\u001b[0m\u001b[0mRI\u001b[0m\u001b[1;33m,\u001b[0m\u001b[0mcU\u001b[0m\u001b[1;33m,\u001b[0m\u001b[0mRU\u001b[0m\u001b[1;33m)\u001b[0m \u001b[1;33m=\u001b[0m \u001b[0mdataGenerator\u001b[0m\u001b[1;33m(\u001b[0m\u001b[0mepsilon\u001b[0m\u001b[1;33m,\u001b[0m\u001b[0mn\u001b[0m\u001b[1;33m,\u001b[0m\u001b[0mp\u001b[0m\u001b[1;33m,\u001b[0m\u001b[0mq\u001b[0m\u001b[1;33m,\u001b[0m\u001b[0mdiff\u001b[0m\u001b[1;33m)\u001b[0m\u001b[1;33m\u001b[0m\u001b[0m\n\u001b[1;32m---> 16\u001b[1;33m     \u001b[0mResponse\u001b[0m \u001b[1;33m=\u001b[0m \u001b[0mIsIncluded_PLOT\u001b[0m\u001b[1;33m(\u001b[0m\u001b[0mcI\u001b[0m\u001b[1;33m,\u001b[0m\u001b[0mRI\u001b[0m\u001b[1;33m,\u001b[0m\u001b[0mcU\u001b[0m\u001b[1;33m,\u001b[0m\u001b[0mRU\u001b[0m\u001b[1;33m,\u001b[0m\u001b[0mp\u001b[0m\u001b[1;33m,\u001b[0m\u001b[0mq\u001b[0m\u001b[1;33m)\u001b[0m\u001b[1;33m\u001b[0m\u001b[0m\n\u001b[0m\u001b[0;32m     17\u001b[0m     \u001b[0mnbTrue\u001b[0m \u001b[1;33m=\u001b[0m \u001b[0mnbTrue\u001b[0m \u001b[1;33m+\u001b[0m \u001b[0mint\u001b[0m\u001b[1;33m(\u001b[0m\u001b[0mResponse\u001b[0m\u001b[1;33m)\u001b[0m\u001b[1;33m\u001b[0m\u001b[0m\n\u001b[0;32m     18\u001b[0m     \u001b[0mnbQCQP\u001b[0m \u001b[1;33m=\u001b[0m \u001b[0mnbQCQP\u001b[0m \u001b[1;33m+\u001b[0m \u001b[0mint\u001b[0m\u001b[1;33m(\u001b[0m\u001b[0mIsIncluded_QCQP\u001b[0m\u001b[1;33m(\u001b[0m\u001b[0mcI\u001b[0m\u001b[1;33m,\u001b[0m\u001b[0mRI\u001b[0m\u001b[1;33m,\u001b[0m\u001b[0mcU\u001b[0m\u001b[1;33m,\u001b[0m\u001b[0mRU\u001b[0m\u001b[1;33m,\u001b[0m\u001b[0mn\u001b[0m\u001b[1;33m,\u001b[0m\u001b[0mp\u001b[0m\u001b[1;33m,\u001b[0m\u001b[0mq\u001b[0m\u001b[1;33m)\u001b[0m \u001b[1;33m==\u001b[0m \u001b[0mResponse\u001b[0m\u001b[1;33m)\u001b[0m\u001b[1;33m\u001b[0m\u001b[0m\n",
      "\u001b[1;32m<ipython-input-154-2609ef6b86b5>\u001b[0m in \u001b[0;36mIsIncluded_PLOT\u001b[1;34m(cI, RI, cU, RU, p, q)\u001b[0m\n\u001b[0;32m     10\u001b[0m             \u001b[0mresponse\u001b[0m \u001b[1;33m=\u001b[0m \u001b[0mTrue\u001b[0m\u001b[1;33m\u001b[0m\u001b[0m\n\u001b[0;32m     11\u001b[0m             \u001b[1;32mfor\u001b[0m \u001b[0mk\u001b[0m \u001b[1;32min\u001b[0m \u001b[0mrange\u001b[0m\u001b[1;33m(\u001b[0m\u001b[1;36m0\u001b[0m\u001b[1;33m,\u001b[0m\u001b[0mp\u001b[0m\u001b[1;33m)\u001b[0m\u001b[1;33m:\u001b[0m\u001b[1;33m\u001b[0m\u001b[0m\n\u001b[1;32m---> 12\u001b[1;33m                 \u001b[1;32mif\u001b[0m\u001b[1;33m(\u001b[0m\u001b[1;33m(\u001b[0m\u001b[0mxx\u001b[0m\u001b[1;33m[\u001b[0m\u001b[0mi\u001b[0m\u001b[1;33m,\u001b[0m\u001b[0mj\u001b[0m\u001b[1;33m]\u001b[0m\u001b[1;33m-\u001b[0m\u001b[0mcI\u001b[0m\u001b[1;33m[\u001b[0m\u001b[0mk\u001b[0m\u001b[1;33m,\u001b[0m\u001b[1;36m0\u001b[0m\u001b[1;33m]\u001b[0m\u001b[1;33m)\u001b[0m\u001b[1;33m**\u001b[0m\u001b[1;36m2\u001b[0m\u001b[1;33m+\u001b[0m\u001b[1;33m(\u001b[0m\u001b[0myy\u001b[0m\u001b[1;33m[\u001b[0m\u001b[0mi\u001b[0m\u001b[1;33m,\u001b[0m\u001b[0mj\u001b[0m\u001b[1;33m]\u001b[0m\u001b[1;33m-\u001b[0m\u001b[0mcI\u001b[0m\u001b[1;33m[\u001b[0m\u001b[0mk\u001b[0m\u001b[1;33m,\u001b[0m\u001b[1;36m1\u001b[0m\u001b[1;33m]\u001b[0m\u001b[1;33m)\u001b[0m\u001b[1;33m**\u001b[0m\u001b[1;36m2\u001b[0m\u001b[1;33m>\u001b[0m\u001b[0mRI\u001b[0m\u001b[1;33m[\u001b[0m\u001b[0mk\u001b[0m\u001b[1;33m]\u001b[0m\u001b[1;33m**\u001b[0m\u001b[1;36m2\u001b[0m\u001b[1;33m)\u001b[0m\u001b[1;33m:\u001b[0m\u001b[1;33m\u001b[0m\u001b[0m\n\u001b[0m\u001b[0;32m     13\u001b[0m                     \u001b[0mresponse\u001b[0m \u001b[1;33m=\u001b[0m \u001b[0mFalse\u001b[0m\u001b[1;33m\u001b[0m\u001b[0m\n\u001b[0;32m     14\u001b[0m                     \u001b[0mk\u001b[0m \u001b[1;33m=\u001b[0m \u001b[0mp\u001b[0m\u001b[1;33m\u001b[0m\u001b[0m\n",
      "\u001b[1;31mKeyboardInterrupt\u001b[0m: "
     ]
    }
   ],
   "source": [
    "#n = nb of variables\n",
    "n = 2\n",
    "#p = nb of elements in the intersection\n",
    "p = 3\n",
    "#p = nb of elements in the union\n",
    "q = 2\n",
    "diff = 1\n",
    "epsilon = 10\n",
    "diff = 1\n",
    "nbQCQP = 0\n",
    "nbQP = 0\n",
    "nbTrue = 0\n",
    "\n",
    "for i in range(0,100):\n",
    "    (cI,RI,cU,RU) = dataGenerator(epsilon,n,p,q,diff)\n",
    "    Response = IsIncluded_PLOT(cI,RI,cU,RU,p,q)\n",
    "    nbTrue = nbTrue + int(Response)\n",
    "    nbQCQP = nbQCQP + int(IsIncluded_QCQP(cI,RI,cU,RU,n,p,q) == Response)   \n",
    "    nbQP = nbQP + int(IsIncluded_QP(cI,RI,cU,RU,n,p,q) == Response)          \n",
    "    print(i+1,nbTrue,nbQCQP,nbQP)"
   ]
  },
  {
   "cell_type": "markdown",
   "metadata": {},
   "source": [
    "#### TABLE 1 OF THE PAPER : dimension 2"
   ]
  },
  {
   "cell_type": "code",
   "execution_count": 327,
   "metadata": {
    "scrolled": true
   },
   "outputs": [
    {
     "name": "stdout",
     "output_type": "stream",
     "text": [
      "(1, 2, 0, 1)\n",
      "(2, 1, 0, 2)\n",
      "(3, 1, 0, 3)\n",
      "(4, 2, 0, 4)\n",
      "(5, 2, 0, 5)\n",
      "(6, 1, 1, 6)\n",
      "(7, 2, 2, 7)\n",
      "(8, 2, 2, 8)\n",
      "(9, 3, 3, 9)\n",
      "(10, 1, 4, 10)\n",
      "(11, 2, 5, 11)\n",
      "(12, 5, 5, 12)\n",
      "(13, 4, 5, 13)\n",
      "(14, 3, 6, 14)\n",
      "(15, 5, 6, 15)\n",
      "(16, 2, 6, 16)\n",
      "(17, 1, 6, 17)\n",
      "(18, 2, 6, 18)\n",
      "(19, 3, 7, 19)\n",
      "(20, 1, 7, 20)\n",
      "(21, 1, 8, 21)\n",
      "(22, 6, 8, 22)\n",
      "(23, 1, 8, 23)\n",
      "(24, 4, 8, 24)\n",
      "(25, 2, 8, 25)\n",
      "(26, 1, 8, 26)\n",
      "(27, 3, 8, 27)\n",
      "(28, 8, 9, 28)\n",
      "(29, 2, 10, 29)\n",
      "(30, 1, 10, 30)\n",
      "(31, 1, 10, 31)\n",
      "(32, 6, 11, 32)\n",
      "(33, 3, 12, 33)\n",
      "(34, 1, 12, 34)\n",
      "(35, 8, 13, 35)\n",
      "(36, 7, 14, 36)\n",
      "(37, 3, 14, 37)\n",
      "(38, 3, 15, 38)\n",
      "(39, 1, 15, 39)\n",
      "(40, 4, 15, 40)\n",
      "(41, 1, 15, 41)\n",
      "(42, 1, 15, 42)\n",
      "(43, 2, 15, 43)\n",
      "(44, 1, 15, 44)\n",
      "(45, 1, 16, 45)\n",
      "(46, 2, 17, 46)\n",
      "(47, 1, 18, 47)\n",
      "(48, 3, 18, 48)\n",
      "(49, 2, 19, 49)\n",
      "(50, 3, 19, 50)\n",
      "(51, 3, 19, 51)\n",
      "(52, 1, 20, 52)\n",
      "(53, 2, 21, 53)\n",
      "(54, 1, 22, 54)\n",
      "(55, 2, 22, 55)\n",
      "(56, 6, 22, 56)\n",
      "(57, 1, 23, 57)\n",
      "(58, 5, 24, 58)\n",
      "(59, 10, 24, 59)\n",
      "(60, 3, 25, 60)\n",
      "(61, 9, 25, 61)\n",
      "(62, 1, 25, 62)\n",
      "(63, 1, 26, 63)\n",
      "(64, 8, 26, 64)\n",
      "(65, 1, 26, 65)\n",
      "(66, 3, 27, 66)\n",
      "(67, 4, 28, 67)\n",
      "(68, 1, 29, 68)\n",
      "(69, 1, 29, 69)\n",
      "(70, 1, 29, 70)\n",
      "(71, 4, 30, 71)\n",
      "(72, 2, 30, 72)\n",
      "(73, 1, 31, 73)\n",
      "(74, 1, 31, 74)\n",
      "(75, 4, 32, 75)\n",
      "(76, 1, 32, 76)\n",
      "(77, 6, 32, 77)\n",
      "(78, 3, 32, 78)\n",
      "(79, 1, 32, 79)\n",
      "(80, 3, 33, 80)\n",
      "(81, 2, 33, 81)\n",
      "(82, 2, 34, 82)\n",
      "(83, 10, 34, 83)\n",
      "(84, 3, 35, 84)\n",
      "(85, 2, 35, 85)\n",
      "(86, 1, 36, 86)\n",
      "(87, 7, 37, 87)\n",
      "(88, 5, 38, 88)\n",
      "(89, 3, 38, 89)\n",
      "(90, 6, 38, 90)\n",
      "(91, 2, 38, 91)\n",
      "(92, 10, 38, 92)\n",
      "(93, 3, 38, 93)\n",
      "(94, 4, 38, 94)\n",
      "(95, 1, 38, 95)\n",
      "(96, 3, 38, 96)\n",
      "(97, 2, 39, 97)\n",
      "(98, 4, 40, 98)\n",
      "(99, 6, 40, 99)\n",
      "(100, 3, 40, 100)\n"
     ]
    }
   ],
   "source": [
    "#n = nb of variables\n",
    "n = 2\n",
    "#p = nb of elements in the intersection\n",
    "p = 3\n",
    "#p = nb of elements in the union\n",
    "q = 3\n",
    "diff = 1\n",
    "epsilon = 10\n",
    "nbQCQP = 0\n",
    "nbQP = 0\n",
    "nbTrue = 0\n",
    "\n",
    "for i in range(0,100):\n",
    "    (cI,RI,cU,RU) = dataGenerator(epsilon,n,p,q,diff)\n",
    "    j = 1\n",
    "    while IsIncluded_PLOT(cI,RI,cU,RU,p,q) == True:\n",
    "        (cI,RI,cU,RU) = dataGenerator(epsilon,n,p,q,diff)\n",
    "        j = j+1\n",
    "        \n",
    "    Response = IsIncluded_PLOT(cI,RI,cU,RU,p,q)\n",
    "    nbTrue = nbTrue + int(Response)\n",
    "    nbQCQP = nbQCQP + int(IsIncluded_QCQP(cI,RI,cU,RU,n,p,q) == Response)   \n",
    "    nbQP = nbQP + int(IsIncluded_QP(cI,RI,cU,RU,n,p,q) == Response)          \n",
    "    print(i+1,j,nbQCQP,nbQP)"
   ]
  },
  {
   "cell_type": "code",
   "execution_count": null,
   "metadata": {
    "scrolled": true
   },
   "outputs": [],
   "source": [
    "plot(cI,RI,cU,RU,p,q)"
   ]
  },
  {
   "cell_type": "markdown",
   "metadata": {
    "collapsed": true
   },
   "source": [
    "#### TABLE 1 OF THE PAPER : dimension > 2"
   ]
  },
  {
   "cell_type": "code",
   "execution_count": 340,
   "metadata": {},
   "outputs": [
    {
     "name": "stdout",
     "output_type": "stream",
     "text": [
      "(1, 1, 0, 0)\n"
     ]
    }
   ],
   "source": [
    "#n = nb of variables\n",
    "n = 5\n",
    "#p = nb of elements in the intersection\n",
    "p = 3\n",
    "#p = nb of elements in the union\n",
    "q = 3\n",
    "diff = 1\n",
    "epsilon = 10\n",
    "nbQCQP = 0\n",
    "nbQP = 0\n",
    "nbTrue = 0\n",
    "\n",
    "for i in range(0,100):\n",
    "    (cI,RI,cU,RU) = dataGenerator(epsilon,n,p,q,diff)\n",
    "    j = 1\n",
    "    Response = IsIncluded_QP(cI,RI,cU,RU,n,p,q)\n",
    "    while Response == True:\n",
    "        (cI,RI,cU,RU) = dataGenerator(epsilon,n,p,q,diff)\n",
    "        Response = IsIncluded_QP(cI,RI,cU,RU,n,p,q)\n",
    "        j = j+1\n",
    "    \n",
    "    nbQCQP = nbQCQP + int(IsIncluded_QCQP(cI,RI,cU,RU,n,p,q))   \n",
    "    nbQP = nbQP + int(IsIncluded_QP(cI,RI,cU,RU,n,p,q))          \n",
    "    print(i+1,j,nbQCQP,nbQP)"
   ]
  },
  {
   "cell_type": "markdown",
   "metadata": {},
   "source": [
    "## computationnal time\n",
    "\n",
    "#### TABLE 2 OF THE PAPER"
   ]
  },
  {
   "cell_type": "code",
   "execution_count": 365,
   "metadata": {},
   "outputs": [],
   "source": [
    "import time\n",
    "n = 5\n",
    "#p = nb of elements in the intersection\n",
    "p = 3\n",
    "#p = nb of elements in the union\n",
    "q = 3\n",
    "diff = 1\n",
    "epsilon = 10"
   ]
  },
  {
   "cell_type": "code",
   "execution_count": 366,
   "metadata": {},
   "outputs": [
    {
     "name": "stdout",
     "output_type": "stream",
     "text": [
      "0\n",
      "1\n",
      "2\n",
      "3\n",
      "4\n",
      "5\n",
      "6\n",
      "7\n",
      "8\n",
      "9\n",
      "(0.04664953415340278, 986.2315258394337)\n",
      "21141.2942002\n"
     ]
    }
   ],
   "source": [
    "time_QP =0\n",
    "time_QCQ = 0\n",
    "\n",
    "for i in range(0,10):\n",
    "    print(i)\n",
    "    (cI,RI,cU,RU) = dataGenerator(epsilon,n,p,q,diff)\n",
    "    Response = IsIncluded_QP(cI,RI,cU,RU,n,p,q)    \n",
    "    while Response == True:\n",
    "        (cI,RI,cU,RU) = dataGenerator(epsilon,n,p,q,diff)\n",
    "        Response = IsIncluded_QP(cI,RI,cU,RU,n,p,q)\n",
    "        j = j+1\n",
    "    \n",
    "    time_startQP = time.clock()\n",
    "    IsIncluded_QP(cI,RI,cU,RU,n,p,q)      \n",
    "    time_QP = time_QP + (time.clock() - time_startQP)\n",
    "\n",
    "    time_startQCQP = time.clock()\n",
    "    IsIncluded_QCQP(cI,RI,cU,RU,n,p,q)   \n",
    "    time_QCQP = time_QCQP + (time.clock() - time_startQCQP)   \n",
    "\n",
    "print(time_QP,time_QCQP)\n",
    "print(time_QCQP/time_QP)"
   ]
  },
  {
   "cell_type": "code",
   "execution_count": null,
   "metadata": {},
   "outputs": [],
   "source": []
  },
  {
   "cell_type": "code",
   "execution_count": null,
   "metadata": {},
   "outputs": [],
   "source": []
  }
 ],
 "metadata": {
  "kernelspec": {
   "display_name": "Python 2",
   "language": "python",
   "name": "python2"
  },
  "language_info": {
   "codemirror_mode": {
    "name": "ipython",
    "version": 2
   },
   "file_extension": ".py",
   "mimetype": "text/x-python",
   "name": "python",
   "nbconvert_exporter": "python",
   "pygments_lexer": "ipython2",
   "version": "2.7.14"
  }
 },
 "nbformat": 4,
 "nbformat_minor": 2
}
